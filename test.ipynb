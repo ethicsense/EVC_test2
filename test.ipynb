{
 "cells": [
  {
   "cell_type": "code",
   "execution_count": 1,
   "metadata": {},
   "outputs": [
    {
     "name": "stdout",
     "output_type": "stream",
     "text": [
      "/home/keti/EVC_test2\n"
     ]
    }
   ],
   "source": [
    "!pwd"
   ]
  },
  {
   "cell_type": "code",
   "execution_count": 92,
   "metadata": {},
   "outputs": [],
   "source": [
    "import yaml\n",
    "\n",
    "with open('myEVCconfig.yaml') as f:\n",
    "    user_cfg = yaml.load(f, Loader=yaml.FullLoader)"
   ]
  },
  {
   "cell_type": "code",
   "execution_count": 95,
   "metadata": {},
   "outputs": [
    {
     "data": {
      "text/plain": [
       "['keti_test_rpi', 'keti_test_nuc']"
      ]
     },
     "execution_count": 95,
     "metadata": {},
     "output_type": "execute_result"
    }
   ],
   "source": [
    "user_cfg['group']"
   ]
  },
  {
   "cell_type": "code",
   "execution_count": 93,
   "metadata": {},
   "outputs": [
    {
     "data": {
      "text/plain": [
       "{'keti_test_rpi': [{'name': 'rpi6401',\n",
       "   'ip': '123.214.186.192',\n",
       "   'port': 39002,\n",
       "   'hw': 'rpi',\n",
       "   'os': 'linux',\n",
       "   'gpu': 'None'},\n",
       "  {'rpi6403': {'ip': '123.214.186.192',\n",
       "    'port': 39003,\n",
       "    'hw': 'rpi',\n",
       "    'os': 'linux',\n",
       "    'gpu': 'None'}},\n",
       "  {'rpi6404': {'ip': '123.214.186.192',\n",
       "    'port': 39004,\n",
       "    'hw': 'rpi',\n",
       "    'os': 'linux',\n",
       "    'gpu': 'None'}},\n",
       "  {'rpi6405': {'ip': '123.214.186.192',\n",
       "    'port': 39005,\n",
       "    'hw': 'rpi',\n",
       "    'os': 'linux',\n",
       "    'gpu': 'None'}}],\n",
       " 'keti_test_nuc': [{'n02': {'ip': '123.214.186.192',\n",
       "    'port': 33322,\n",
       "    'hw': 'intel NUC',\n",
       "    'os': 'ubuntu',\n",
       "    'gpu': 'RTX2080'}}]}"
      ]
     },
     "execution_count": 93,
     "metadata": {},
     "output_type": "execute_result"
    }
   ],
   "source": [
    "user_cfg['target']"
   ]
  },
  {
   "cell_type": "code",
   "execution_count": 94,
   "metadata": {},
   "outputs": [
    {
     "data": {
      "text/plain": [
       "{'name': 'rpi6401',\n",
       " 'ip': '123.214.186.192',\n",
       " 'port': 39002,\n",
       " 'hw': 'rpi',\n",
       " 'os': 'linux',\n",
       " 'gpu': 'None'}"
      ]
     },
     "execution_count": 94,
     "metadata": {},
     "output_type": "execute_result"
    }
   ],
   "source": [
    "user_cfg['target']['keti_test_rpi'][0]"
   ]
  },
  {
   "cell_type": "code",
   "execution_count": 88,
   "metadata": {},
   "outputs": [
    {
     "data": {
      "text/plain": [
       "['keti_test_rpi', 'keti_test_nuc']"
      ]
     },
     "execution_count": 88,
     "metadata": {},
     "output_type": "execute_result"
    }
   ],
   "source": [
    "user_cfg['group']"
   ]
  },
  {
   "cell_type": "code",
   "execution_count": 74,
   "metadata": {},
   "outputs": [
    {
     "data": {
      "text/plain": [
       "'keti_test_rpi'"
      ]
     },
     "execution_count": 74,
     "metadata": {},
     "output_type": "execute_result"
    }
   ],
   "source": [
    "user_cfg['group'][0]"
   ]
  },
  {
   "cell_type": "code",
   "execution_count": 84,
   "metadata": {},
   "outputs": [
    {
     "data": {
      "text/plain": [
       "{'testboy': {'age': 1}, 'testgirl': {'age': 2}}"
      ]
     },
     "execution_count": 84,
     "metadata": {},
     "output_type": "execute_result"
    }
   ],
   "source": [
    "user_cfg['test22']"
   ]
  },
  {
   "cell_type": "code",
   "execution_count": null,
   "metadata": {},
   "outputs": [],
   "source": []
  }
 ],
 "metadata": {
  "kernelspec": {
   "display_name": "edge-fw",
   "language": "python",
   "name": "python3"
  },
  "language_info": {
   "codemirror_mode": {
    "name": "ipython",
    "version": 3
   },
   "file_extension": ".py",
   "mimetype": "text/x-python",
   "name": "python",
   "nbconvert_exporter": "python",
   "pygments_lexer": "ipython3",
   "version": "3.8.15"
  },
  "orig_nbformat": 4
 },
 "nbformat": 4,
 "nbformat_minor": 2
}
